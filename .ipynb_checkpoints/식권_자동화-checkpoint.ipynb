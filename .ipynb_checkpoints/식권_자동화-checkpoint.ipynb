{
 "cells": [
  {
   "cell_type": "code",
   "execution_count": 1,
   "id": "e7582eb2-6633-4f6d-96f4-396421c120bb",
   "metadata": {},
   "outputs": [],
   "source": [
    "# 한컴오피스 자동화 입문1 : 상장 자동제작 feat.파이썬\n",
    "# https://youtu.be/1pC_UXhiJH8\n",
    "\n",
    "import win32com.client as win32\n",
    "import pandas as pd"
   ]
  },
  {
   "cell_type": "code",
   "execution_count": 2,
   "id": "14165e7f-7f39-4d5e-8f7b-59b3e99bc23a",
   "metadata": {},
   "outputs": [
    {
     "data": {
      "text/plain": [
       "True"
      ]
     },
     "execution_count": 2,
     "metadata": {},
     "output_type": "execute_result"
    }
   ],
   "source": [
    "# hwp = win32.Dispatch(\"HWPFrame.HwpObject\")\t\t# 만약 오류가 발생한다면 : pywintypes.com_error: (-2147352562, '매개 변수의 개수가 잘못되었습니다.', None, None)\n",
    "hwp = win32.gencache.EnsureDispatch(\"HWPFrame.HwpObject\")\n",
    "\n",
    "# 보안모듈 등록 : 오류난다면 레지스트리 키의 철자, 경로 확인할 것\n",
    "hwp.RegisterModule('FilePathCheckDLL', \"SecurityModule\")"
   ]
  },
  {
   "cell_type": "code",
   "execution_count": 3,
   "id": "c0ab7200-22f4-41d8-b2c7-fe789d3f18c5",
   "metadata": {},
   "outputs": [],
   "source": [
    "# 모든 시트 불러오기 : sheet_name=None\n",
    "# 헤더(= 컬럼 니름 = 1행) 없으면 : header=None\n",
    "# 인덱스 만들고 싶지 않으면 : index_col=None\n",
    "excel = pd.read_excel(\"상속 이전 안내문 발송대상자 명단(5월~8월).xlsx\", sheet_name=None)\n",
    "\n",
    "# excel"
   ]
  },
  {
   "cell_type": "code",
   "execution_count": 4,
   "id": "ce15a0ca-1225-4f24-b05a-1a0492419268",
   "metadata": {},
   "outputs": [
    {
     "data": {
      "text/plain": [
       "dict_keys(['대상자명단(5월)', '대상자명단(6월)', '대상자명단(7월)', '대상자명단(8월)'])"
      ]
     },
     "execution_count": 4,
     "metadata": {},
     "output_type": "execute_result"
    }
   ],
   "source": [
    "# 시트 이름 확인\n",
    "excel.keys()"
   ]
  },
  {
   "cell_type": "code",
   "execution_count": 6,
   "id": "46cbc515-0c83-4ab7-b1b3-b7d2300d0907",
   "metadata": {},
   "outputs": [],
   "source": [
    "# 특정 시트만 불러오기 : excel['대상자명단(5월)']\n",
    "# excel['대상자명단(5월)']"
   ]
  },
  {
   "cell_type": "code",
   "execution_count": 7,
   "id": "34ab56ad-141f-40ef-90e8-63e1c027e4a9",
   "metadata": {},
   "outputs": [],
   "source": [
    "# 전체 시트를 하나로 합치기(인덱스 무시)\n",
    "excel_total = pd.concat(excel, ignore_index=True)\n",
    "\n",
    "# excel_total"
   ]
  },
  {
   "cell_type": "code",
   "execution_count": 8,
   "id": "d940bc0f-a310-4114-b217-8ccfa953cf6a",
   "metadata": {},
   "outputs": [],
   "source": [
    "# 특정 열만 추출하기\n",
    "excel_regnum_name = excel_total[['자동차등록번호', '성명']]\n",
    "# excel_regnum_name"
   ]
  },
  {
   "cell_type": "code",
   "execution_count": 9,
   "id": "0d135c75-2aea-4895-b829-2d2d68522fdd",
   "metadata": {},
   "outputs": [],
   "source": [
    "# 열이름 바꾸기\n",
    "excel_regnum_name.columns=['등록번호', '소유자']\n",
    "# excel_regnum_name"
   ]
  },
  {
   "cell_type": "code",
   "execution_count": 10,
   "id": "a1001887-37be-4708-8161-dfd00c04654a",
   "metadata": {},
   "outputs": [
    {
     "data": {
      "text/plain": [
       "True"
      ]
     },
     "execution_count": 10,
     "metadata": {},
     "output_type": "execute_result"
    }
   ],
   "source": [
    "#hwp.Open(\"C:/HWP_API/award.hwp\")\t\t# 만약 오류가 발생한다면 : pywintypes.com_error: (-2147352562, '매개 변수의 개수가 잘못되었습니다.', None, None)\n",
    "# hwp.Open(\"C:/HWP_API/상속 이전 등록 안내문.hwp\", \"HWP\", None)\n",
    "hwp.Open(\"C:/HWP_API/상속 이전 등록 안내문.hwp\", \"HWP\", None)"
   ]
  },
  {
   "cell_type": "code",
   "execution_count": 11,
   "id": "51087b00-c4c7-45e9-87dc-5922b0e550a7",
   "metadata": {
    "tags": []
   },
   "outputs": [
    {
     "data": {
      "text/plain": [
       "'등록번호\\x02소유자'"
      ]
     },
     "execution_count": 11,
     "metadata": {},
     "output_type": "execute_result"
    }
   ],
   "source": [
    "hwp.GetFieldList()"
   ]
  },
  {
   "cell_type": "code",
   "execution_count": 12,
   "id": "8c3a1780-5a28-49b6-bb2a-32590b39ce26",
   "metadata": {},
   "outputs": [],
   "source": [
    "field_list = [i for i in hwp.GetFieldList().split('\\x02')]"
   ]
  },
  {
   "cell_type": "code",
   "execution_count": 13,
   "id": "f78d1d2a-c2e7-4d1e-9272-1040e67fe897",
   "metadata": {},
   "outputs": [
    {
     "data": {
      "text/plain": [
       "['등록번호', '소유자']"
      ]
     },
     "execution_count": 13,
     "metadata": {},
     "output_type": "execute_result"
    }
   ],
   "source": [
    "field_list"
   ]
  },
  {
   "cell_type": "code",
   "execution_count": 14,
   "id": "52896a8b-a481-4c8a-8645-0851cd387eea",
   "metadata": {},
   "outputs": [
    {
     "data": {
      "text/plain": [
       "71"
      ]
     },
     "execution_count": 14,
     "metadata": {},
     "output_type": "execute_result"
    }
   ],
   "source": [
    "# 총 몇명인지 확인\n",
    "len(excel_regnum_name)"
   ]
  },
  {
   "cell_type": "code",
   "execution_count": 15,
   "id": "a4ea29f0-871b-42b6-a3dc-db71ecef42fe",
   "metadata": {},
   "outputs": [],
   "source": [
    "# pandas 복습\n",
    "# excel[\"열이름\"]  ==> DataFrame의 특정 열\n",
    "\n",
    "# excel_regnum_name[\"등록번호\"]"
   ]
  },
  {
   "cell_type": "code",
   "execution_count": 16,
   "id": "62d6f75a-53e1-4b71-a589-fe2d48f80b3a",
   "metadata": {},
   "outputs": [],
   "source": [
    "# pandas 복습\n",
    "# excel[\"열이름\"].iloc[row인덱스]  ==> DataFrame의 특정 열 & 특정 행\n",
    "\n",
    "# excel_regnum_name[\"등록번호\"].iloc[0:3]"
   ]
  },
  {
   "cell_type": "code",
   "execution_count": 114,
   "id": "76b2bede-b97c-4a7e-b578-af4cea2be752",
   "metadata": {},
   "outputs": [
    {
     "name": "stdout",
     "output_type": "stream",
     "text": [
      "1\t대상\t박혜경\t박혜경\t2021년 1월 10일\t\n",
      "2\t최우수상\t이보람\t이보람\t2021년 2월 1일\t\n",
      "3\t금상\t김남우\t김남우\t2021년 3월 8일\t\n",
      "4\t은상\t조남일\t조남일\t2021년 8월 1일\t\n",
      "5\t동상\t최고집\t최고집\t2021년 10월 14일\t\n",
      "6\t장려상\t수한무\t수한무\t2021년 10월 15일\t\n"
     ]
    }
   ],
   "source": [
    "# DataFrame에서 값 읽어오기\n",
    "# 날짜 포맷 : 2021-10-10 00:00:00\n",
    "\n",
    "# for row in range(len(excel_regnum_name)):\n",
    "#     for field in field_list:\n",
    "#         print(excel[field].iloc[row], end='\\t')\n",
    "#     print()"
   ]
  },
  {
   "cell_type": "code",
   "execution_count": 17,
   "id": "634a6cd4-816b-44ca-af42-11d99a1ef4db",
   "metadata": {},
   "outputs": [],
   "source": [
    "# 엑셀의 날짜 문자열이 timestamp로 입력된 경우\n",
    "# 'yyyy-mm-dd' 형식이 아니라 'yyyy년 mm월 dd일' 형식으로 맞추려면\n",
    "# 아래와 같이 포맷한다.\n",
    "# for row in range(len(excel)):\n",
    "#     excel['시상일'].iloc[row] = f\"{excel['시상일'].iloc[row].year}년 {excel['시상일'].iloc[row].month}월 {excel['시상일'].iloc[row].day}일\""
   ]
  },
  {
   "cell_type": "code",
   "execution_count": 18,
   "id": "b61a2f17-a35b-4805-b151-feb81e9b1135",
   "metadata": {},
   "outputs": [
    {
     "data": {
      "text/plain": [
       "True"
      ]
     },
     "execution_count": 18,
     "metadata": {},
     "output_type": "execute_result"
    }
   ],
   "source": [
    "hwp.MovePos(0)    # 가장 처음부분으로"
   ]
  },
  {
   "cell_type": "code",
   "execution_count": 19,
   "id": "6796a74a-90c7-47bc-8904-16d70cb5b019",
   "metadata": {},
   "outputs": [],
   "source": [
    "hwp.Run('SelectAll')"
   ]
  },
  {
   "cell_type": "code",
   "execution_count": 20,
   "id": "a73a141c-7519-4841-86cf-91aef29a35f5",
   "metadata": {},
   "outputs": [],
   "source": [
    "hwp.Run('Copy')    # hwp.Run('Cut')    hwp.Run('Paste')"
   ]
  },
  {
   "cell_type": "code",
   "execution_count": 21,
   "id": "ce6f65ba-d933-4d0e-8c63-637f7e7ecfa1",
   "metadata": {},
   "outputs": [
    {
     "data": {
      "text/plain": [
       "True"
      ]
     },
     "execution_count": 21,
     "metadata": {},
     "output_type": "execute_result"
    }
   ],
   "source": [
    "hwp.MovePos(3)"
   ]
  },
  {
   "cell_type": "code",
   "execution_count": 15,
   "id": "234a82c0-0d4a-4ec6-9d4a-96bf25ca46bc",
   "metadata": {},
   "outputs": [
    {
     "data": {
      "text/plain": [
       "True"
      ]
     },
     "execution_count": 15,
     "metadata": {},
     "output_type": "execute_result"
    }
   ],
   "source": [
    "# 1페이지의 와꾸를 엑셀 파일에서 불러온 DataFrame의 사람 명수만큼 복사하고 붙여넣기\n",
    "# 따라서 \"전체선택\"+\"복사\" 후에 (사람 명수 - 1)만큼 횟수로 \"붙여넣기\"해준다\n",
    "\n",
    "for i in range(len(excel_regnum_name)-1):\n",
    "    hwp.Run('Paste')\n",
    "    hwp.MovePos(3)    # 문서 맨끝으로=3\n",
    "\n",
    "hwp.MovePos(3)"
   ]
  },
  {
   "cell_type": "code",
   "execution_count": 16,
   "id": "56f771b7-7360-4440-a3d5-a643fdbe8121",
   "metadata": {},
   "outputs": [],
   "source": [
    "import time\n",
    "# 1~6페이지(index=0~5)까지 와꾸 완성됐으면\n",
    "# 이제 페이지마다(0~5) 누름틀 필드에 값을 집어넣음\n",
    "\n",
    "for page in range(len(excel_regnum_name)):    # 모든 페이지에\n",
    "    for field in field_list:                  # 각 페이지의 모든 필드(누름틀)\n",
    "        hwp.MoveToField(f\"{field}{{{{{page}}}}}\")  # 커서를 해당 누름틀로 이동\n",
    "#         time.sleep(1)\n",
    "        hwp.PutFieldText(f\"{field}{{{{{page}}}}}\", excel_regnum_name[field].iloc[page])"
   ]
  }
 ],
 "metadata": {
  "interpreter": {
   "hash": "f9c50f004ee415adbafe09aea614218b079f1eb011d4673c4c2142d7f8fe9c86"
  },
  "kernelspec": {
   "display_name": "Python 3 (ipykernel)",
   "language": "python",
   "name": "python3"
  },
  "language_info": {
   "codemirror_mode": {
    "name": "ipython",
    "version": 3
   },
   "file_extension": ".py",
   "mimetype": "text/x-python",
   "name": "python",
   "nbconvert_exporter": "python",
   "pygments_lexer": "ipython3",
   "version": "3.8.11"
  },
  "toc-autonumbering": true,
  "toc-showcode": false,
  "toc-showmarkdowntxt": true
 },
 "nbformat": 4,
 "nbformat_minor": 5
}
