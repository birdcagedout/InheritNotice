{
 "cells": [
  {
   "cell_type": "code",
   "execution_count": null,
   "id": "e7582eb2-6633-4f6d-96f4-396421c120bb",
   "metadata": {},
   "outputs": [],
   "source": [
    "# 한컴오피스 자동화 입문1 : 상장 자동제작 feat.파이썬\n",
    "# https://youtu.be/1pC_UXhiJH8\n",
    "\n",
    "import win32com.client as win32\n",
    "import pandas as pd"
   ]
  },
  {
   "cell_type": "code",
   "execution_count": 11,
   "id": "14165e7f-7f39-4d5e-8f7b-59b3e99bc23a",
   "metadata": {},
   "outputs": [
    {
     "data": {
      "text/plain": [
       "True"
      ]
     },
     "execution_count": 11,
     "metadata": {},
     "output_type": "execute_result"
    }
   ],
   "source": [
    "# hwp = win32.Dispatch(\"HWPFrame.HwpObject\")\t\t# 만약 오류가 발생한다면 : pywintypes.com_error: (-2147352562, '매개 변수의 개수가 잘못되었습니다.', None, None)\n",
    "hwp = win32.gencache.EnsureDispatch(\"HWPFrame.HwpObject\")\n",
    "\n",
    "# 보안모듈 등록 : 오류난다면 레지스트리 키의 철자, 경로 확인할 것\n",
    "hwp.RegisterModule('FilePathCheckDLL', \"SecurityModule\")"
   ]
  },
  {
   "cell_type": "code",
   "execution_count": 5,
   "id": "298aa183-1e30-46a2-9b70-231d77d0bfb2",
   "metadata": {},
   "outputs": [
    {
     "data": {
      "text/html": [
       "<div>\n",
       "<style scoped>\n",
       "    .dataframe tbody tr th:only-of-type {\n",
       "        vertical-align: middle;\n",
       "    }\n",
       "\n",
       "    .dataframe tbody tr th {\n",
       "        vertical-align: top;\n",
       "    }\n",
       "\n",
       "    .dataframe thead th {\n",
       "        text-align: right;\n",
       "    }\n",
       "</style>\n",
       "<table border=\"1\" class=\"dataframe\">\n",
       "  <thead>\n",
       "    <tr style=\"text-align: right;\">\n",
       "      <th></th>\n",
       "      <th>일련번호</th>\n",
       "      <th>상이름</th>\n",
       "      <th>수상자이름</th>\n",
       "      <th>본문수상자이름</th>\n",
       "      <th>시상일</th>\n",
       "    </tr>\n",
       "  </thead>\n",
       "  <tbody>\n",
       "    <tr>\n",
       "      <th>0</th>\n",
       "      <td>1</td>\n",
       "      <td>대상</td>\n",
       "      <td>박혜경</td>\n",
       "      <td>박혜경</td>\n",
       "      <td>2021-01-10</td>\n",
       "    </tr>\n",
       "    <tr>\n",
       "      <th>1</th>\n",
       "      <td>2</td>\n",
       "      <td>최우수상</td>\n",
       "      <td>이보람</td>\n",
       "      <td>이보람</td>\n",
       "      <td>2021-02-01</td>\n",
       "    </tr>\n",
       "    <tr>\n",
       "      <th>2</th>\n",
       "      <td>3</td>\n",
       "      <td>금상</td>\n",
       "      <td>김남우</td>\n",
       "      <td>김남우</td>\n",
       "      <td>2021-03-08</td>\n",
       "    </tr>\n",
       "    <tr>\n",
       "      <th>3</th>\n",
       "      <td>4</td>\n",
       "      <td>은상</td>\n",
       "      <td>조남일</td>\n",
       "      <td>조남일</td>\n",
       "      <td>2021-08-01</td>\n",
       "    </tr>\n",
       "    <tr>\n",
       "      <th>4</th>\n",
       "      <td>5</td>\n",
       "      <td>동상</td>\n",
       "      <td>최고집</td>\n",
       "      <td>최고집</td>\n",
       "      <td>2021-10-14</td>\n",
       "    </tr>\n",
       "    <tr>\n",
       "      <th>5</th>\n",
       "      <td>6</td>\n",
       "      <td>장려상</td>\n",
       "      <td>수한무</td>\n",
       "      <td>수한무</td>\n",
       "      <td>2021-10-15</td>\n",
       "    </tr>\n",
       "  </tbody>\n",
       "</table>\n",
       "</div>"
      ],
      "text/plain": [
       "   일련번호   상이름 수상자이름 본문수상자이름        시상일\n",
       "0     1    대상   박혜경     박혜경 2021-01-10\n",
       "1     2  최우수상   이보람     이보람 2021-02-01\n",
       "2     3    금상   김남우     김남우 2021-03-08\n",
       "3     4    은상   조남일     조남일 2021-08-01\n",
       "4     5    동상   최고집     최고집 2021-10-14\n",
       "5     6   장려상   수한무     수한무 2021-10-15"
      ]
     },
     "execution_count": 5,
     "metadata": {},
     "output_type": "execute_result"
    }
   ],
   "source": [
    "excel = pd.read_excel(\"award.xlsx\")\n",
    "\n",
    "excel"
   ]
  },
  {
   "cell_type": "code",
   "execution_count": 6,
   "id": "1af333e3-0618-444a-bcb3-4b0df7237aad",
   "metadata": {},
   "outputs": [
    {
     "data": {
      "text/plain": [
       "True"
      ]
     },
     "execution_count": 6,
     "metadata": {},
     "output_type": "execute_result"
    }
   ],
   "source": [
    "#hwp.Open(\"C:/HWP_API/award.hwp\")\t\t# 만약 오류가 발생한다면 : pywintypes.com_error: (-2147352562, '매개 변수의 개수가 잘못되었습니다.', None, None)\n",
    "hwp.Open(\"C:/HWP_API/award.hwp\", \"HWP\", None)"
   ]
  },
  {
   "cell_type": "code",
   "execution_count": 104,
   "id": "51087b00-c4c7-45e9-87dc-5922b0e550a7",
   "metadata": {
    "tags": []
   },
   "outputs": [
    {
     "data": {
      "text/plain": [
       "'일련번호\\x02상이름\\x02수상자이름\\x02본문수상자이름\\x02시상일'"
      ]
     },
     "execution_count": 104,
     "metadata": {},
     "output_type": "execute_result"
    }
   ],
   "source": [
    "hwp.GetFieldList()"
   ]
  },
  {
   "cell_type": "code",
   "execution_count": 105,
   "id": "4a05578c-9351-41e3-8df4-1e0e9e66a15d",
   "metadata": {},
   "outputs": [
    {
     "data": {
      "text/plain": [
       "'일련번호{{0}}\\x02상이름{{0}}\\x02수상자이름{{0}}\\x02본문수상자이름{{0}}\\x02시상일{{0}}'"
      ]
     },
     "execution_count": 105,
     "metadata": {},
     "output_type": "execute_result"
    }
   ],
   "source": [
    "hwp.GetFieldList(1)"
   ]
  },
  {
   "cell_type": "code",
   "execution_count": 106,
   "id": "d98a2d21-708d-4bf0-93b0-f322021d8ff3",
   "metadata": {},
   "outputs": [
    {
     "data": {
      "text/plain": [
       "'일련번호{{1}}\\x02상이름{{1}}\\x02수상자이름{{1}}\\x02본문수상자이름{{1}}\\x02시상일{{1}}'"
      ]
     },
     "execution_count": 106,
     "metadata": {},
     "output_type": "execute_result"
    }
   ],
   "source": [
    "hwp.GetFieldList(2)"
   ]
  },
  {
   "cell_type": "code",
   "execution_count": 107,
   "id": "8c3a1780-5a28-49b6-bb2a-32590b39ce26",
   "metadata": {},
   "outputs": [],
   "source": [
    "field_list = [i for i in hwp.GetFieldList().split('\\x02')]"
   ]
  },
  {
   "cell_type": "code",
   "execution_count": 108,
   "id": "f78d1d2a-c2e7-4d1e-9272-1040e67fe897",
   "metadata": {},
   "outputs": [
    {
     "data": {
      "text/plain": [
       "['일련번호', '상이름', '수상자이름', '본문수상자이름', '시상일']"
      ]
     },
     "execution_count": 108,
     "metadata": {},
     "output_type": "execute_result"
    }
   ],
   "source": [
    "field_list"
   ]
  },
  {
   "cell_type": "code",
   "execution_count": 109,
   "id": "52896a8b-a481-4c8a-8645-0851cd387eea",
   "metadata": {},
   "outputs": [
    {
     "data": {
      "text/plain": [
       "6"
      ]
     },
     "execution_count": 109,
     "metadata": {},
     "output_type": "execute_result"
    }
   ],
   "source": [
    "len(excel)\n"
   ]
  },
  {
   "cell_type": "code",
   "execution_count": 110,
   "id": "a4ea29f0-871b-42b6-a3dc-db71ecef42fe",
   "metadata": {},
   "outputs": [
    {
     "data": {
      "text/plain": [
       "0    1\n",
       "1    2\n",
       "2    3\n",
       "3    4\n",
       "4    5\n",
       "5    6\n",
       "Name: 일련번호, dtype: int64"
      ]
     },
     "execution_count": 110,
     "metadata": {},
     "output_type": "execute_result"
    }
   ],
   "source": [
    "# pandas 복습\n",
    "# excel[\"열이름\"]  ==> DataFrame의 특정 열\n",
    "\n",
    "excel[\"일련번호\"]"
   ]
  },
  {
   "cell_type": "code",
   "execution_count": 111,
   "id": "62d6f75a-53e1-4b71-a589-fe2d48f80b3a",
   "metadata": {},
   "outputs": [
    {
     "data": {
      "text/plain": [
       "2"
      ]
     },
     "execution_count": 111,
     "metadata": {},
     "output_type": "execute_result"
    }
   ],
   "source": [
    "# pandas 복습\n",
    "# excel[\"열이름\"].iloc[row인덱스]  ==> DataFrame의 특정 열 & 특정 행\n",
    "\n",
    "excel[\"일련번호\"].iloc[1]"
   ]
  },
  {
   "cell_type": "code",
   "execution_count": 114,
   "id": "76b2bede-b97c-4a7e-b578-af4cea2be752",
   "metadata": {},
   "outputs": [
    {
     "name": "stdout",
     "output_type": "stream",
     "text": [
      "1\t대상\t박혜경\t박혜경\t2021년 1월 10일\t\n",
      "2\t최우수상\t이보람\t이보람\t2021년 2월 1일\t\n",
      "3\t금상\t김남우\t김남우\t2021년 3월 8일\t\n",
      "4\t은상\t조남일\t조남일\t2021년 8월 1일\t\n",
      "5\t동상\t최고집\t최고집\t2021년 10월 14일\t\n",
      "6\t장려상\t수한무\t수한무\t2021년 10월 15일\t\n"
     ]
    }
   ],
   "source": [
    "# DataFrame에서 값 읽어오기\n",
    "# 날짜 포맷 : 2021-10-10 00:00:00\n",
    "\n",
    "for row in range(len(excel)):\n",
    "    for field in field_list:\n",
    "        print(excel[field].iloc[row], end='\\t')\n",
    "    print()"
   ]
  },
  {
   "cell_type": "code",
   "execution_count": 70,
   "id": "83174c53-a0ed-4861-9ed8-0648e7d37c09",
   "metadata": {},
   "outputs": [
    {
     "name": "stderr",
     "output_type": "stream",
     "text": [
      "C:\\ProgramData\\Anaconda3\\envs\\pr\\lib\\site-packages\\pandas\\core\\indexing.py:1732: SettingWithCopyWarning: \n",
      "A value is trying to be set on a copy of a slice from a DataFrame\n",
      "\n",
      "See the caveats in the documentation: https://pandas.pydata.org/pandas-docs/stable/user_guide/indexing.html#returning-a-view-versus-a-copy\n",
      "  self._setitem_single_block(indexer, value, name)\n"
     ]
    }
   ],
   "source": [
    "# 엑셀의 날짜 문자열이 timestamp로 입력된다.\n",
    "# 이때 시간부분을 잘라내려면 timestamp.date()\n",
    "# 반환값의 type은 datetime.date\n",
    "\n",
    "# for row in range(len(excel)):\n",
    "#     excel['시상일'].iloc[row] = excel['시상일'].iloc[row].date()\n"
   ]
  },
  {
   "cell_type": "code",
   "execution_count": 72,
   "id": "553a122a-ccb0-4c8b-a1b0-973a2af18b28",
   "metadata": {},
   "outputs": [
    {
     "data": {
      "text/plain": [
       "datetime.date"
      ]
     },
     "execution_count": 72,
     "metadata": {},
     "output_type": "execute_result"
    }
   ],
   "source": [
    "# type(excel['시상일'].iloc[0])"
   ]
  },
  {
   "cell_type": "code",
   "execution_count": 113,
   "id": "634a6cd4-816b-44ca-af42-11d99a1ef4db",
   "metadata": {},
   "outputs": [
    {
     "name": "stderr",
     "output_type": "stream",
     "text": [
      "C:\\ProgramData\\Anaconda3\\envs\\pr\\lib\\site-packages\\pandas\\core\\indexing.py:1732: SettingWithCopyWarning: \n",
      "A value is trying to be set on a copy of a slice from a DataFrame\n",
      "\n",
      "See the caveats in the documentation: https://pandas.pydata.org/pandas-docs/stable/user_guide/indexing.html#returning-a-view-versus-a-copy\n",
      "  self._setitem_single_block(indexer, value, name)\n"
     ]
    }
   ],
   "source": [
    "# 엑셀의 날짜 문자열이 timestamp로 입력된 경우\n",
    "# 'yyyy-mm-dd' 형식이 아니라 'yyyy년 mm월 dd일' 형식으로 맞추려면\n",
    "# 아래와 같이 포맷한다.\n",
    "for row in range(len(excel)):\n",
    "    excel['시상일'].iloc[row] = f\"{excel['시상일'].iloc[row].year}년 {excel['시상일'].iloc[row].month}월 {excel['시상일'].iloc[row].day}일\""
   ]
  },
  {
   "cell_type": "code",
   "execution_count": 117,
   "id": "b61a2f17-a35b-4805-b151-feb81e9b1135",
   "metadata": {},
   "outputs": [
    {
     "data": {
      "text/plain": [
       "True"
      ]
     },
     "execution_count": 117,
     "metadata": {},
     "output_type": "execute_result"
    }
   ],
   "source": [
    "hwp.MovePos(0)    # 가장 처음부분으로"
   ]
  },
  {
   "cell_type": "code",
   "execution_count": 119,
   "id": "6796a74a-90c7-47bc-8904-16d70cb5b019",
   "metadata": {},
   "outputs": [],
   "source": [
    "hwp.Run('SelectAll')"
   ]
  },
  {
   "cell_type": "code",
   "execution_count": 120,
   "id": "a73a141c-7519-4841-86cf-91aef29a35f5",
   "metadata": {},
   "outputs": [],
   "source": [
    "hwp.Run('Copy')    # hwp.Run('Cut')    hwp.Run('Paste')"
   ]
  },
  {
   "cell_type": "code",
   "execution_count": 121,
   "id": "ce6f65ba-d933-4d0e-8c63-637f7e7ecfa1",
   "metadata": {},
   "outputs": [
    {
     "data": {
      "text/plain": [
       "True"
      ]
     },
     "execution_count": 121,
     "metadata": {},
     "output_type": "execute_result"
    }
   ],
   "source": [
    "hwp.MovePos(3)"
   ]
  },
  {
   "cell_type": "code",
   "execution_count": 122,
   "id": "234a82c0-0d4a-4ec6-9d4a-96bf25ca46bc",
   "metadata": {},
   "outputs": [],
   "source": [
    "# 1페이지의 와꾸를 상장 수상자 수만큼 복사한다.\n",
    "# 엑셀 파일에 총 6명의 수상자\n",
    "# 따라서 \"전체선택\"+\"복사\" 후에 5번(0~4)을 \"붙여넣기\"해준다\n",
    "\n",
    "for i in range(len(excel)-1):\n",
    "    hwp.Run('Paste')\n",
    "    hwp.MovePos(3)    # 문서 맨끝으로=3\n",
    "\n",
    "hwp.MovePos(3)"
   ]
  },
  {
   "cell_type": "code",
   "execution_count": 123,
   "id": "56f771b7-7360-4440-a3d5-a643fdbe8121",
   "metadata": {},
   "outputs": [],
   "source": [
    "import time\n",
    "# 1~6페이지(index=0~5)까지 와꾸 완성됐으면\n",
    "# 이제 페이지마다(0~5) 누름틀 필드에 값을 집어넣음\n",
    "\n",
    "for page in range(len(excel)):    # 모든 페이지에\n",
    "    for field in field_list:    # 각 페이지의 모든 필드(누름틀)\n",
    "        hwp.MoveToField(f\"{field}{{{{{page}}}}}\")  # 커서를 해당 누름틀로 이동\n",
    "        time.sleep(1)\n",
    "        hwp.PutFieldText(f\"{field}{{{{{page}}}}}\", excel[field].iloc[page])"
   ]
  }
 ],
 "metadata": {
  "interpreter": {
   "hash": "f9c50f004ee415adbafe09aea614218b079f1eb011d4673c4c2142d7f8fe9c86"
  },
  "kernelspec": {
   "display_name": "Python 3.8.11 64-bit ('py': conda)",
   "name": "python3"
  },
  "language_info": {
   "codemirror_mode": {
    "name": "ipython",
    "version": 3
   },
   "file_extension": ".py",
   "mimetype": "text/x-python",
   "name": "python",
   "nbconvert_exporter": "python",
   "pygments_lexer": "ipython3",
   "version": "3.8.11"
  },
  "toc-autonumbering": true,
  "toc-showcode": false,
  "toc-showmarkdowntxt": true
 },
 "nbformat": 4,
 "nbformat_minor": 5
}
