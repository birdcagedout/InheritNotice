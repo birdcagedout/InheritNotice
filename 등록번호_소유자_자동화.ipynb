{
 "cells": [
  {
   "cell_type": "code",
   "execution_count": 1,
   "id": "e7582eb2-6633-4f6d-96f4-396421c120bb",
   "metadata": {},
   "outputs": [],
   "source": [
    "# 한컴오피스 자동화 입문1 : 상장 자동제작 feat.파이썬\n",
    "# https://youtu.be/1pC_UXhiJH8\n",
    "\n",
    "import win32com.client as win32\n",
    "import pandas as pd"
   ]
  },
  {
   "cell_type": "code",
   "execution_count": 2,
   "id": "9a31186f-5183-4d30-8786-d6a2839c1958",
   "metadata": {},
   "outputs": [],
   "source": [
    "# hwp = win32.Dispatch(\"HWPFrame.HwpObject\")\t\t# 만약 오류가 발생한다면 : pywintypes.com_error: (-2147352562, '매개 변수의 개수가 잘못되었습니다.', None, None)\n",
    "hwp0 = win32.gencache.EnsureDispatch(\"HWPFrame.HwpObject\")\n",
    "\n",
    "# 보안모듈 등록 : 오류난다면 레지스트리 키의 철자, 경로 확인할 것\n",
    "hwp0.RegisterModule('FilePathCheckDLL', \"SecurityModule\")\n",
    "\n",
    "# 한글 최신버전인 경우(예를 들어 2020) 반드시 실행해야 한글 프로그램 창이 보인다.\n",
    "hwp0.XHwpWindows.Item(0).Visible = True"
   ]
  },
  {
   "cell_type": "code",
   "execution_count": 3,
   "id": "cfa9d98a-ee2b-4f8c-a150-0ec934c6778c",
   "metadata": {},
   "outputs": [],
   "source": [
    "# hwp = win32.Dispatch(\"HWPFrame.HwpObject\")\t\t# 만약 오류가 발생한다면 : pywintypes.com_error: (-2147352562, '매개 변수의 개수가 잘못되었습니다.', None, None)\n",
    "hwp1 = win32.gencache.EnsureDispatch(\"HWPFrame.HwpObject\")\n",
    "\n",
    "# 보안모듈 등록 : 오류난다면 레지스트리 키의 철자, 경로 확인할 것\n",
    "hwp1.RegisterModule('FilePathCheckDLL', \"SecurityModule\")\n",
    "\n",
    "# 한글 최신버전인 경우(예를 들어 2020) 반드시 실행해야 한글 프로그램 창이 보인다.\n",
    "hwp1.XHwpWindows.Item(0).Visible = True"
   ]
  },
  {
   "cell_type": "code",
   "execution_count": 4,
   "id": "33177a17-0aba-400b-8600-708caea57658",
   "metadata": {},
   "outputs": [],
   "source": [
    "# 사망자: 7월 ~ 8월\n",
    "month_start = 7\n",
    "month_end = 8"
   ]
  },
  {
   "cell_type": "code",
   "execution_count": 5,
   "id": "da66e6e2-518f-4aae-8321-9be7a8bda6bd",
   "metadata": {},
   "outputs": [],
   "source": [
    "# 모든 시트 불러오기 : sheet_name=None\n",
    "# 헤더(= 컬럼 니름 = 1행) 없으면 : header=None\n",
    "# 인덱스 만들고 싶지 않으면 : index_col=None\n",
    "excel = pd.read_excel(f\"상속 이전 안내문 발송대상자 명단({month_start}월~{month_end}월).xlsx\", sheet_name=None)\n",
    "\n",
    "# excel"
   ]
  },
  {
   "cell_type": "code",
   "execution_count": 6,
   "id": "ce15a0ca-1225-4f24-b05a-1a0492419268",
   "metadata": {},
   "outputs": [
    {
     "data": {
      "text/plain": [
       "dict_keys(['피상속인명단(7월)', '피상속인명단(8월)'])"
      ]
     },
     "execution_count": 6,
     "metadata": {},
     "output_type": "execute_result"
    }
   ],
   "source": [
    "# 시트 이름 확인\n",
    "excel.keys()"
   ]
  },
  {
   "cell_type": "code",
   "execution_count": 7,
   "id": "46cbc515-0c83-4ab7-b1b3-b7d2300d0907",
   "metadata": {},
   "outputs": [],
   "source": [
    "# 특정 시트만 불러오기 : excel['대상자명단(5월)']\n",
    "# excel['대상자명단(5월)']"
   ]
  },
  {
   "cell_type": "code",
   "execution_count": 8,
   "id": "810397cb-f1b1-4fa7-a4f8-98df9474c71a",
   "metadata": {},
   "outputs": [],
   "source": [
    "# 전체 시트를 하나로 합치기(인덱스 무시)\n",
    "excel_total = pd.concat(excel, ignore_index=True)\n",
    "\n",
    "# excel_total"
   ]
  },
  {
   "cell_type": "code",
   "execution_count": null,
   "id": "ddd71971-cf09-462a-9343-790f43050c3d",
   "metadata": {},
   "outputs": [],
   "source": [
    "excel_total.head()"
   ]
  },
  {
   "cell_type": "code",
   "execution_count": 10,
   "id": "d940bc0f-a310-4114-b217-8ccfa953cf6a",
   "metadata": {},
   "outputs": [],
   "source": [
    "# 특정 열만 추출하기\n",
    "excel_regnum_name = excel_total[['자동차등록번호', '성명']]\n",
    "# excel_regnum_name"
   ]
  },
  {
   "cell_type": "code",
   "execution_count": 11,
   "id": "0d135c75-2aea-4895-b829-2d2d68522fdd",
   "metadata": {},
   "outputs": [],
   "source": [
    "# 열이름 바꾸기\n",
    "excel_regnum_name.columns=['등록번호', '소유자']\n",
    "# excel_regnum_name"
   ]
  },
  {
   "cell_type": "code",
   "execution_count": 12,
   "id": "a1001887-37be-4708-8161-dfd00c04654a",
   "metadata": {},
   "outputs": [
    {
     "data": {
      "text/plain": [
       "True"
      ]
     },
     "execution_count": 12,
     "metadata": {},
     "output_type": "execute_result"
    }
   ],
   "source": [
    "\n",
    "hwp0.Open(\"C:/Dev/InheritNotice/상속 이전 등록 안내문.hwp\", \"HWP\", None)\n",
    "hwp1.Open(\"C:/Dev/InheritNotice/운행정지 명령 예고문.hwp\", \"HWP\", None)"
   ]
  },
  {
   "cell_type": "code",
   "execution_count": 13,
   "id": "9638468c-0b86-4e27-94b3-8790ddd0a6ec",
   "metadata": {
    "tags": []
   },
   "outputs": [
    {
     "data": {
      "text/plain": [
       "'등록번호\\x02소유자'"
      ]
     },
     "execution_count": 13,
     "metadata": {},
     "output_type": "execute_result"
    }
   ],
   "source": [
    "hwp0.GetFieldList()"
   ]
  },
  {
   "cell_type": "code",
   "execution_count": 14,
   "id": "83aa0583-da0a-4f3b-b082-346b25bb6b67",
   "metadata": {
    "tags": []
   },
   "outputs": [
    {
     "data": {
      "text/plain": [
       "'등록번호\\x02소유자'"
      ]
     },
     "execution_count": 14,
     "metadata": {},
     "output_type": "execute_result"
    }
   ],
   "source": [
    "hwp1.GetFieldList()"
   ]
  },
  {
   "cell_type": "code",
   "execution_count": 15,
   "id": "8c3a1780-5a28-49b6-bb2a-32590b39ce26",
   "metadata": {},
   "outputs": [],
   "source": [
    "# 상속이전 안내문과 운행정지 안내문의 누름틀 필드가 같다는 전제\n",
    "field_list = [i for i in hwp0.GetFieldList().split('\\x02')]"
   ]
  },
  {
   "cell_type": "code",
   "execution_count": 16,
   "id": "f78d1d2a-c2e7-4d1e-9272-1040e67fe897",
   "metadata": {},
   "outputs": [
    {
     "data": {
      "text/plain": [
       "['등록번호', '소유자']"
      ]
     },
     "execution_count": 16,
     "metadata": {},
     "output_type": "execute_result"
    }
   ],
   "source": [
    "field_list"
   ]
  },
  {
   "cell_type": "code",
   "execution_count": 17,
   "id": "52896a8b-a481-4c8a-8645-0851cd387eea",
   "metadata": {},
   "outputs": [
    {
     "data": {
      "text/plain": [
       "48"
      ]
     },
     "execution_count": 17,
     "metadata": {},
     "output_type": "execute_result"
    }
   ],
   "source": [
    "# 총 발송 대상 건수\n",
    "len(excel_regnum_name)"
   ]
  },
  {
   "cell_type": "code",
   "execution_count": 18,
   "id": "ca579fc9-3361-4a41-9603-5c9d9586a73d",
   "metadata": {},
   "outputs": [
    {
     "data": {
      "text/plain": [
       "True"
      ]
     },
     "execution_count": 18,
     "metadata": {},
     "output_type": "execute_result"
    }
   ],
   "source": [
    "# 1. 상속이전 안내문: 와꾸 복사\n",
    "hwp0.MovePos(0)        # 맨 처음으로 이동\n",
    "hwp0.Run('SelectAll')  # 전체 선택\n",
    "hwp0.Run('Copy')       # hwp.Run('Cut')    hwp.Run('Paste')\n",
    "hwp0.MovePos(3)        # 맨 끝으로 이동\n",
    "\n",
    "# (총 건수 - 1) 횟수 \"붙여넣기\"\n",
    "for i in range(len(excel_regnum_name)-1):\n",
    "    hwp0.Run('Paste')\n",
    "    hwp0.MovePos(3)\n",
    "\n",
    "hwp0.MovePos(0)"
   ]
  },
  {
   "cell_type": "code",
   "execution_count": 19,
   "id": "735d1843-4c39-473e-b913-c60f9b7c299a",
   "metadata": {},
   "outputs": [
    {
     "data": {
      "text/plain": [
       "True"
      ]
     },
     "execution_count": 19,
     "metadata": {},
     "output_type": "execute_result"
    }
   ],
   "source": [
    "# 2. 운행정지 안내문: 와꾸 복사\n",
    "hwp1.MovePos(0)        # 맨 처음으로 이동\n",
    "hwp1.Run('SelectAll')  # 전체 선택\n",
    "hwp1.Run('Copy')       # hwp.Run('Cut')    hwp.Run('Paste')\n",
    "hwp1.MovePos(3)        # 맨 끝으로 이동\n",
    "\n",
    "# (총 건수 - 1) 횟수 \"붙여넣기\"\n",
    "for i in range(len(excel_regnum_name)-1):\n",
    "    hwp1.Run('Paste')\n",
    "    hwp1.MovePos(3)\n",
    "\n",
    "hwp1.MovePos(0)"
   ]
  },
  {
   "cell_type": "code",
   "execution_count": 20,
   "id": "56f771b7-7360-4440-a3d5-a643fdbe8121",
   "metadata": {},
   "outputs": [],
   "source": [
    "# 3. 상속이전 / 운행정지 안내문: 누름틀 필드에 값 입력\n",
    "\n",
    "for page in range(len(excel_regnum_name)):    # 모든 페이지에\n",
    "    for field in field_list:                  # 각 페이지의 모든 필드(누름틀)\n",
    "        hwp0.MoveToField(f\"{field}{{{{{page}}}}}\")  # 커서를 해당 누름틀로 이동\n",
    "        hwp0.PutFieldText(f\"{field}{{{{{page}}}}}\", excel_regnum_name[field].iloc[page])\n",
    "        hwp1.MoveToField(f\"{field}{{{{{page}}}}}\")  # 커서를 해당 누름틀로 이동\n",
    "        hwp1.PutFieldText(f\"{field}{{{{{page}}}}}\", excel_regnum_name[field].iloc[page])\n",
    "\n",
    "hwp0.MovePos(3)\n",
    "hwp0.Run(\"DeleteBack\")\n",
    "hwp0.Run(\"DeleteBack\")\n",
    "hwp1.MovePos(3)\n",
    "hwp1.Run(\"DeleteBack\")\n",
    "hwp1.Run(\"DeleteBack\")"
   ]
  },
  {
   "cell_type": "code",
   "execution_count": 21,
   "id": "550bbf5e-6b7a-4c5e-9c1b-03a39aff9702",
   "metadata": {},
   "outputs": [
    {
     "data": {
      "text/plain": [
       "True"
      ]
     },
     "execution_count": 21,
     "metadata": {},
     "output_type": "execute_result"
    }
   ],
   "source": [
    "hwp0.SaveAs(f\"C:/Dev/InheritNotice/상속 이전 등록 안내문({month_start}월~{month_end}월).hwp\")\n",
    "hwp1.SaveAs(f\"C:/Dev/InheritNotice/운행정지 명령 예고문({month_start}월~{month_end}월).hwp\")"
   ]
  },
  {
   "cell_type": "code",
   "execution_count": 22,
   "id": "1fda60d9-0b9b-493f-bfbf-7de80bcfff35",
   "metadata": {},
   "outputs": [],
   "source": [
    "hwp0.Quit()\n",
    "hwp1.Quit()"
   ]
  },
  {
   "cell_type": "markdown",
   "id": "bb21de06-f3be-4a43-a5d2-448abbdad51c",
   "metadata": {},
   "source": [
    "### 한글 프로그램 종료 (상속이전 / 운행정지 각각 hwp파일로 저장됨)"
   ]
  }
 ],
 "metadata": {
  "interpreter": {
   "hash": "f9c50f004ee415adbafe09aea614218b079f1eb011d4673c4c2142d7f8fe9c86"
  },
  "kernelspec": {
   "display_name": "Python 3 (ipykernel)",
   "language": "python",
   "name": "python3"
  },
  "language_info": {
   "codemirror_mode": {
    "name": "ipython",
    "version": 3
   },
   "file_extension": ".py",
   "mimetype": "text/x-python",
   "name": "python",
   "nbconvert_exporter": "python",
   "pygments_lexer": "ipython3",
   "version": "3.9.12"
  },
  "toc-autonumbering": true,
  "toc-showcode": false,
  "toc-showmarkdowntxt": true
 },
 "nbformat": 4,
 "nbformat_minor": 5
}
